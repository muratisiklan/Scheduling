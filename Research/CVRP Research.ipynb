{
 "cells": [
  {
   "cell_type": "code",
   "execution_count": 1,
   "metadata": {},
   "outputs": [],
   "source": [
    "import numpy as np\n",
    "import pandas as pd\n",
    "import os"
   ]
  },
  {
   "cell_type": "code",
   "execution_count": 2,
   "metadata": {},
   "outputs": [
    {
     "data": {
      "text/plain": [
       "'/Users/muratisiklan/Desktop/scheduling/Research'"
      ]
     },
     "execution_count": 2,
     "metadata": {},
     "output_type": "execute_result"
    }
   ],
   "source": [
    "%pwd"
   ]
  },
  {
   "cell_type": "code",
   "execution_count": 3,
   "metadata": {},
   "outputs": [],
   "source": [
    "os.chdir(\"../\")"
   ]
  },
  {
   "cell_type": "code",
   "execution_count": 4,
   "metadata": {},
   "outputs": [],
   "source": [
    "from src.Problems.cvrp.Algorithms.utils import calculate_total_cost,create_initial_solution,create_neighbor_solution"
   ]
  },
  {
   "cell_type": "code",
   "execution_count": 5,
   "metadata": {},
   "outputs": [],
   "source": [
    "distances = [\n",
    "    [0,30,50,40],\n",
    "    [30,0,15,25],\n",
    "    [50,15,0,44],\n",
    "    [40,25,44,0]\n",
    "]\n",
    "demands = [0,10,20,40]\n",
    "\n",
    "capacities = [50,45]\n",
    "\n",
    "solution = [\n",
    "    [1,2],\n",
    "    [3]\n",
    "]"
   ]
  },
  {
   "cell_type": "code",
   "execution_count": 6,
   "metadata": {},
   "outputs": [
    {
     "data": {
      "text/plain": [
       "[[1, 2, 3], []]"
      ]
     },
     "execution_count": 6,
     "metadata": {},
     "output_type": "execute_result"
    }
   ],
   "source": [
    "new_sol = create_neighbor_solution(solution)\n",
    "new_sol"
   ]
  },
  {
   "cell_type": "code",
   "execution_count": 7,
   "metadata": {},
   "outputs": [],
   "source": [
    "cost,load,solut = calculate_total_cost(solution,distances,demands,capacities)"
   ]
  },
  {
   "cell_type": "code",
   "execution_count": 8,
   "metadata": {},
   "outputs": [
    {
     "data": {
      "text/plain": [
       "(175, [30, 40])"
      ]
     },
     "execution_count": 8,
     "metadata": {},
     "output_type": "execute_result"
    }
   ],
   "source": [
    "cost,load"
   ]
  },
  {
   "cell_type": "code",
   "execution_count": 9,
   "metadata": {},
   "outputs": [],
   "source": [
    "sol = create_initial_solution(distances,demands,capacities)"
   ]
  },
  {
   "cell_type": "code",
   "execution_count": 10,
   "metadata": {},
   "outputs": [],
   "source": [
    "distances = np.random.uniform(10, 100, size=(30, 30))\n",
    "demands = np.random.uniform(10, 20, size=(30, 1))\n",
    "capacities = np.random.uniform(60, 100, size=(10, 1))\n"
   ]
  },
  {
   "cell_type": "code",
   "execution_count": 11,
   "metadata": {},
   "outputs": [],
   "source": [
    "from src.Problems.cvrp.Algorithms.simulated_annealing import SimulatedAnnealing\n",
    "\n",
    "sa = SimulatedAnnealing(distances,demands,capacities)"
   ]
  },
  {
   "cell_type": "code",
   "execution_count": 12,
   "metadata": {},
   "outputs": [],
   "source": [
    "_,_,_,objectives = sa.solve()"
   ]
  },
  {
   "cell_type": "code",
   "execution_count": 13,
   "metadata": {},
   "outputs": [],
   "source": [
    "import matplotlib.pyplot as plt"
   ]
  },
  {
   "cell_type": "code",
   "execution_count": 14,
   "metadata": {},
   "outputs": [
    {
     "data": {
      "text/plain": [
       "[<matplotlib.lines.Line2D at 0x12454b550>]"
      ]
     },
     "execution_count": 14,
     "metadata": {},
     "output_type": "execute_result"
    },
    {
     "data": {
      "image/png": "[encoded data removed]",
      "text/plain": [
       "<Figure size 640x480 with 1 Axes>"
      ]
     },
     "metadata": {},
     "output_type": "display_data"
    }
   ],
   "source": [
    "plt.plot(objectives)"
   ]
  },
  {
   "cell_type": "code",
   "execution_count": 15,
   "metadata": {},
   "outputs": [
    {
     "data": {
      "text/plain": [
       "[1847.7379530904823,\n",
       " 1855.9223454644575,\n",
       " 1843.7579047982981,\n",
       " 1800.3480456203959,\n",
       " 1845.329394446069,\n",
       " 1881.3890888708377,\n",
       " 1867.337873917266,\n",
       " 1877.9086311892254,\n",
       " 1852.503398608819,\n",
       " 1896.0414818594888,\n",
       " 1862.5562419766236,\n",
       " 1862.5562419766236,\n",
       " 1862.5562419766236,\n",
       " 1871.7074809774608,\n",
       " 1871.7074809774608,\n",
       " 1874.3828977406129,\n",
       " 1836.0063143205373,\n",
       " 1687.9196312170247,\n",
       " 1686.1108161564364,\n",
       " 1724.0000544832264,\n",
       " 1724.0000544832264,\n",
       " 1724.0000544832264,\n",
       " 1683.3565594926977,\n",
       " 1743.7009677677856,\n",
       " 1743.7009677677856,\n",
       " 1760.7603637830352,\n",
       " 1760.7603637830352,\n",
       " 1760.7603637830352,\n",
       " 1760.7603637830352,\n",
       " 1760.7603637830352,\n",
       " 1760.7603637830352,\n",
       " 1760.7603637830352,\n",
       " 1760.7603637830352,\n",
       " 1760.7603637830352,\n",
       " 1760.7603637830352,\n",
       " 1760.7603637830352,\n",
       " 1760.7603637830352,\n",
       " 1760.7603637830352,\n",
       " 1760.7603637830352,\n",
       " 1760.7603637830352,\n",
       " 1760.7603637830352,\n",
       " 1760.7603637830352,\n",
       " 1760.7603637830352,\n",
       " 1760.7603637830352,\n",
       " 1760.7603637830352,\n",
       " 1760.7603637830352,\n",
       " 1760.7603637830352,\n",
       " 1760.7603637830352,\n",
       " 1760.7603637830352,\n",
       " 1760.7603637830352,\n",
       " 1760.7603637830352,\n",
       " 1760.7603637830352,\n",
       " 1760.7603637830352,\n",
       " 1760.7603637830352,\n",
       " 1760.7603637830352,\n",
       " 1760.7603637830352,\n",
       " 1760.7603637830352,\n",
       " 1760.7603637830352,\n",
       " 1760.7603637830352,\n",
       " 1760.7603637830352,\n",
       " 1760.7603637830352,\n",
       " 1760.7603637830352,\n",
       " 1760.7603637830352,\n",
       " 1760.7603637830352,\n",
       " 1760.7603637830352,\n",
       " 1760.7603637830352,\n",
       " 1760.7603637830352,\n",
       " 1760.7603637830352,\n",
       " 1760.7603637830352,\n",
       " 1760.7603637830352,\n",
       " 1760.7603637830352,\n",
       " 1760.7603637830352,\n",
       " 1760.7603637830352,\n",
       " 1760.7603637830352,\n",
       " 1760.7603637830352,\n",
       " 1760.7603637830352,\n",
       " 1760.7603637830352,\n",
       " 1760.7603637830352,\n",
       " 1760.7603637830352,\n",
       " 1760.7603637830352,\n",
       " 1760.7603637830352,\n",
       " 1760.7603637830352,\n",
       " 1760.7603637830352,\n",
       " 1760.7603637830352,\n",
       " 1760.7603637830352,\n",
       " 1760.7603637830352,\n",
       " 1760.7603637830352,\n",
       " 1760.7603637830352,\n",
       " 1760.7603637830352,\n",
       " 1760.7603637830352,\n",
       " 1760.7603637830352,\n",
       " 1760.7603637830352,\n",
       " 1760.7603637830352,\n",
       " 1760.7603637830352,\n",
       " 1760.7603637830352,\n",
       " 1760.7603637830352,\n",
       " 1760.7603637830352,\n",
       " 1760.7603637830352,\n",
       " 1760.7603637830352,\n",
       " 1760.7603637830352,\n",
       " 1760.7603637830352]"
      ]
     },
     "execution_count": 15,
     "metadata": {},
     "output_type": "execute_result"
    }
   ],
   "source": [
    "objectives"
   ]
  },
  {
   "cell_type": "code",
   "execution_count": null,
   "metadata": {},
   "outputs": [],
   "source": []
  }
 ],
 "metadata": {
  "kernelspec": {
   "display_name": ".venv",
   "language": "python",
   "name": "python3"
  },
  "language_info": {
   "codemirror_mode": {
    "name": "ipython",
    "version": 3
   },
   "file_extension": ".py",
   "mimetype": "text/x-python",
   "name": "python",
   "nbconvert_exporter": "python",
   "pygments_lexer": "ipython3",
   "version": "3.10.2"
  }
 },
 "nbformat": 4,
 "nbformat_minor": 2
}
