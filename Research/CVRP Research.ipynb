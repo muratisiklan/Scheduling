{
 "cells": [
  {
   "cell_type": "code",
   "execution_count": 15,
   "metadata": {},
   "outputs": [],
   "source": [
    "import numpy as np\n",
    "import pandas as pd\n",
    "import os"
   ]
  },
  {
   "cell_type": "code",
   "execution_count": 16,
   "metadata": {},
   "outputs": [
    {
     "data": {
      "text/plain": [
       "'/Users/muratisiklan/Desktop/scheduling'"
      ]
     },
     "execution_count": 16,
     "metadata": {},
     "output_type": "execute_result"
    }
   ],
   "source": [
    "%pwd"
   ]
  },
  {
   "cell_type": "code",
   "execution_count": 17,
   "metadata": {},
   "outputs": [],
   "source": [
    "os.chdir(\"../\")"
   ]
  },
  {
   "cell_type": "code",
   "execution_count": 18,
   "metadata": {},
   "outputs": [],
   "source": [
    "from src.Problems.cvrp.Algorithms.utils import calculate_total_cost,create_initial_solution,create_neighbor_solution"
   ]
  },
  {
   "cell_type": "code",
   "execution_count": 19,
   "metadata": {},
   "outputs": [],
   "source": [
    "distances = [\n",
    "    [0,30,50,40],\n",
    "    [30,0,15,25],\n",
    "    [50,15,0,44],\n",
    "    [40,25,44,0]\n",
    "]\n",
    "demands = [0,10,20,40]\n",
    "\n",
    "capacities = [50,45]\n",
    "\n",
    "solution = [\n",
    "    [1,2],\n",
    "    [3]\n",
    "]"
   ]
  },
  {
   "cell_type": "code",
   "execution_count": 20,
   "metadata": {},
   "outputs": [
    {
     "data": {
      "text/plain": [
       "[[1, 2], [3]]"
      ]
     },
     "execution_count": 20,
     "metadata": {},
     "output_type": "execute_result"
    }
   ],
   "source": [
    "new_sol = create_neighbor_solution(solution)\n",
    "new_sol"
   ]
  },
  {
   "cell_type": "code",
   "execution_count": 21,
   "metadata": {},
   "outputs": [],
   "source": [
    "cost,load,solut = calculate_total_cost(solution,distances,demands,capacities)"
   ]
  },
  {
   "cell_type": "code",
   "execution_count": 22,
   "metadata": {},
   "outputs": [
    {
     "data": {
      "text/plain": [
       "(175, [30, 40])"
      ]
     },
     "execution_count": 22,
     "metadata": {},
     "output_type": "execute_result"
    }
   ],
   "source": [
    "cost,load"
   ]
  },
  {
   "cell_type": "code",
   "execution_count": 23,
   "metadata": {},
   "outputs": [],
   "source": [
    "sol = create_initial_solution(distances,demands,capacities)"
   ]
  },
  {
   "cell_type": "code",
   "execution_count": 24,
   "metadata": {},
   "outputs": [],
   "source": [
    "distances = np.random.uniform(10, 100, size=(30, 30))\n",
    "demands = np.random.uniform(10, 100, size=(30, 1))\n",
    "capacities = np.random.uniform(60, 100, size=(10, 1))\n"
   ]
  },
  {
   "cell_type": "code",
   "execution_count": 25,
   "metadata": {},
   "outputs": [],
   "source": [
    "from src.Problems.cvrp.Algorithms.simulated_annealing import SimulatedAnnealing\n",
    "\n",
    "sa = SimulatedAnnealing(distances,demands,capacities)"
   ]
  },
  {
   "cell_type": "code",
   "execution_count": 26,
   "metadata": {},
   "outputs": [
    {
     "ename": "ValueError",
     "evalue": "too many values to unpack (expected 2)",
     "output_type": "error",
     "traceback": [
      "\u001b[0;31m---------------------------------------------------------------------------\u001b[0m",
      "\u001b[0;31mValueError\u001b[0m                                Traceback (most recent call last)",
      "Cell \u001b[0;32mIn[26], line 1\u001b[0m\n\u001b[0;32m----> 1\u001b[0m \u001b[43msa\u001b[49m\u001b[38;5;241;43m.\u001b[39;49m\u001b[43msolve\u001b[49m\u001b[43m(\u001b[49m\u001b[43m)\u001b[49m\n",
      "File \u001b[0;32m~/Desktop/scheduling/src/Problems/cvrp/Algorithms/simulated_annealing.py:35\u001b[0m, in \u001b[0;36mSimulatedAnnealing.solve\u001b[0;34m(self, n_iter, initial_temperature, cooling_factor)\u001b[0m\n\u001b[1;32m     32\u001b[0m new_sol \u001b[38;5;241m=\u001b[39m create_neighbor_solution(incumbent_solution)\n\u001b[1;32m     34\u001b[0m \u001b[38;5;66;03m# Energy of current solution\u001b[39;00m\n\u001b[0;32m---> 35\u001b[0m incumbent_obj, _ \u001b[38;5;241m=\u001b[39m calculate_total_cost(\n\u001b[1;32m     36\u001b[0m     incumbent_solution, \u001b[38;5;28mself\u001b[39m\u001b[38;5;241m.\u001b[39mdistance_matrix, \u001b[38;5;28mself\u001b[39m\u001b[38;5;241m.\u001b[39mdemands, \u001b[38;5;28mself\u001b[39m\u001b[38;5;241m.\u001b[39mvehicle_capacities)\n\u001b[1;32m     37\u001b[0m \u001b[38;5;66;03m# Energy of candidate solution\u001b[39;00m\n\u001b[1;32m     38\u001b[0m new_obj, _ \u001b[38;5;241m=\u001b[39m calculate_total_cost(\n\u001b[1;32m     39\u001b[0m     new_sol, \u001b[38;5;28mself\u001b[39m\u001b[38;5;241m.\u001b[39mdistance_matrix, \u001b[38;5;28mself\u001b[39m\u001b[38;5;241m.\u001b[39mdemands, \u001b[38;5;28mself\u001b[39m\u001b[38;5;241m.\u001b[39mvehicle_capacities)\n",
      "\u001b[0;31mValueError\u001b[0m: too many values to unpack (expected 2)"
     ]
    }
   ],
   "source": [
    "sa.solve()"
   ]
  },
  {
   "cell_type": "code",
   "execution_count": null,
   "metadata": {},
   "outputs": [],
   "source": []
  }
 ],
 "metadata": {
  "kernelspec": {
   "display_name": ".venv",
   "language": "python",
   "name": "python3"
  },
  "language_info": {
   "codemirror_mode": {
    "name": "ipython",
    "version": 3
   },
   "file_extension": ".py",
   "mimetype": "text/x-python",
   "name": "python",
   "nbconvert_exporter": "python",
   "pygments_lexer": "ipython3",
   "version": "3.10.2"
  }
 },
 "nbformat": 4,
 "nbformat_minor": 2
}
