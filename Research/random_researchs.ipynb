{
 "cells": [
  {
   "cell_type": "code",
   "execution_count": 1,
   "metadata": {},
   "outputs": [],
   "source": [
    "import random\n",
    "import numpy as np\n",
    "import pandas as pd"
   ]
  },
  {
   "cell_type": "code",
   "execution_count": 2,
   "metadata": {},
   "outputs": [],
   "source": [
    "import os\n",
    "from datetime import datetime,timedelta"
   ]
  },
  {
   "cell_type": "code",
   "execution_count": 3,
   "metadata": {},
   "outputs": [],
   "source": [
    "process_times = np.random.uniform(10, 100, size=(30, 3))\n",
    "setup_times = np.random.uniform(10, 100, size=(30, 30))\n",
    "ready_times = np.random.uniform(10, 100, size=(30, 1))\n",
    "due_dates = np.random.uniform(80,100,size=(30,1))\n",
    "\n",
    "folder_path = \"/Users/muratisiklan/Desktop/scheduling/Test-Data\"\n"
   ]
  },
  {
   "cell_type": "code",
   "execution_count": 4,
   "metadata": {},
   "outputs": [],
   "source": [
    "# Save each array as a CSV file using pandas\n",
    "pd.DataFrame(process_times).to_csv(os.path.join(folder_path, 'process_times.csv'), index=False, header=False)\n",
    "pd.DataFrame(setup_times).to_csv(os.path.join(folder_path, 'setup_times.csv'), index=False, header=False)\n",
    "pd.DataFrame(ready_times).to_csv(os.path.join(folder_path, 'ready_times.csv'), index=False, header=False)\n",
    "pd.DataFrame(due_dates).to_csv(os.path.join(folder_path, 'due_dates.csv'), index=False, header=False)"
   ]
  },
  {
   "cell_type": "code",
   "execution_count": 5,
   "metadata": {},
   "outputs": [
    {
     "data": {
      "text/plain": [
       "'/Users/muratisiklan/Desktop/scheduling/Research'"
      ]
     },
     "execution_count": 5,
     "metadata": {},
     "output_type": "execute_result"
    }
   ],
   "source": [
    "%pwd"
   ]
  },
  {
   "cell_type": "code",
   "execution_count": 6,
   "metadata": {},
   "outputs": [],
   "source": [
    "os.chdir(\"../\")"
   ]
  },
  {
   "cell_type": "code",
   "execution_count": 7,
   "metadata": {},
   "outputs": [],
   "source": [
    "from src.Algorithms.tabu_search.ts import TabuSearch"
   ]
  },
  {
   "cell_type": "code",
   "execution_count": 8,
   "metadata": {},
   "outputs": [],
   "source": [
    "search = TabuSearch(process_times=process_times,\n",
    "                    ready_times=ready_times,\n",
    "                    setup_times=setup_times,\n",
    "                    due_dates=due_dates\n",
    "                    )"
   ]
  },
  {
   "cell_type": "code",
   "execution_count": 9,
   "metadata": {},
   "outputs": [
    {
     "data": {
      "text/plain": [
       "<src.Algorithms.tabu_search.ts.TabuSearch at 0x125718130>"
      ]
     },
     "execution_count": 9,
     "metadata": {},
     "output_type": "execute_result"
    }
   ],
   "source": [
    "search"
   ]
  },
  {
   "cell_type": "code",
   "execution_count": 10,
   "metadata": {},
   "outputs": [],
   "source": [
    "search.construct_initial_solution()"
   ]
  },
  {
   "cell_type": "code",
   "execution_count": 11,
   "metadata": {},
   "outputs": [],
   "source": [
    "seq, obj, objectives, compt, stime = search.run()"
   ]
  },
  {
   "cell_type": "code",
   "execution_count": 12,
   "metadata": {},
   "outputs": [
    {
     "data": {
      "text/plain": [
       "[[5, 8, 16, 17, 19, 2, 12, 10, 0, 4, 23],\n",
       " [1, 26, 6, 14, 24, 22, 9, 20, 18, 13],\n",
       " [15, 21, 27, 28, 25, 29, 3, 11, 7]]"
      ]
     },
     "execution_count": 12,
     "metadata": {},
     "output_type": "execute_result"
    }
   ],
   "source": [
    "seq"
   ]
  },
  {
   "cell_type": "code",
   "execution_count": 13,
   "metadata": {},
   "outputs": [
    {
     "data": {
      "text/plain": [
       "7506.018164082862"
      ]
     },
     "execution_count": 13,
     "metadata": {},
     "output_type": "execute_result"
    }
   ],
   "source": [
    "obj"
   ]
  },
  {
   "cell_type": "code",
   "execution_count": 14,
   "metadata": {},
   "outputs": [
    {
     "data": {
      "text/plain": [
       "array([509.79306903,  94.21359957, 322.67988332, 446.33067864,\n",
       "       564.4368587 , 101.33292096, 179.28383928, 694.90984504,\n",
       "       130.93249073, 400.44045253, 446.23304103, 518.32811445,\n",
       "       391.56673575, 652.61551109, 208.2283782 , 100.75837666,\n",
       "       204.12358105, 236.88249817, 602.85796329, 284.89861586,\n",
       "       474.76695672, 143.2932226 , 317.74109934, 636.18265708,\n",
       "       283.72404298, 320.42328307, 139.66170681, 202.65695281,\n",
       "       240.80993724, 377.78734834])"
      ]
     },
     "execution_count": 14,
     "metadata": {},
     "output_type": "execute_result"
    }
   ],
   "source": [
    "compt"
   ]
  },
  {
   "cell_type": "code",
   "execution_count": 15,
   "metadata": {},
   "outputs": [
    {
     "data": {
      "text/plain": [
       "array([471.51258293,  62.81853763, 297.46168296, 396.25446002,\n",
       "       523.82422543,  71.79229803, 154.47500515, 604.71247986,\n",
       "       114.4775889 , 336.83326418, 434.81465222, 489.34738459,\n",
       "       366.28171051, 634.53421117, 192.36848578,  71.14422888,\n",
       "       169.8066488 , 217.60533307, 526.75751402, 251.16212671,\n",
       "       412.67771989, 130.63245329, 294.56539503, 598.67665579,\n",
       "       234.22771021, 269.56461857, 113.53766466, 176.98477621,\n",
       "       214.34387582, 351.8503498 ])"
      ]
     },
     "execution_count": 15,
     "metadata": {},
     "output_type": "execute_result"
    }
   ],
   "source": [
    "stime"
   ]
  },
  {
   "cell_type": "code",
   "execution_count": null,
   "metadata": {},
   "outputs": [],
   "source": []
  }
 ],
 "metadata": {
  "kernelspec": {
   "display_name": ".venv",
   "language": "python",
   "name": "python3"
  },
  "language_info": {
   "codemirror_mode": {
    "name": "ipython",
    "version": 3
   },
   "file_extension": ".py",
   "mimetype": "text/x-python",
   "name": "python",
   "nbconvert_exporter": "python",
   "pygments_lexer": "ipython3",
   "version": "3.10.2"
  }
 },
 "nbformat": 4,
 "nbformat_minor": 2
}
