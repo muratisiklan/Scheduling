{
 "cells": [
  {
   "cell_type": "code",
   "execution_count": 1,
   "metadata": {},
   "outputs": [],
   "source": [
    "import random\n",
    "import numpy as np\n",
    "import pandas as pd"
   ]
  },
  {
   "cell_type": "code",
   "execution_count": 2,
   "metadata": {},
   "outputs": [],
   "source": [
    "import os\n",
    "from datetime import datetime,timedelta"
   ]
  },
  {
   "cell_type": "code",
   "execution_count": 3,
   "metadata": {},
   "outputs": [],
   "source": [
    "process_times = np.random.uniform(10, 100, size=(30, 3))\n",
    "setup_times = np.random.uniform(10, 100, size=(30, 30))\n",
    "ready_times = np.random.uniform(10, 100, size=(30, 1))\n",
    "due_dates = np.random.uniform(80,100,size=(30,1))\n",
    "\n",
    "folder_path = \"/Users/muratisiklan/Desktop/scheduling/Test-Data\"\n"
   ]
  },
  {
   "cell_type": "code",
   "execution_count": 4,
   "metadata": {},
   "outputs": [],
   "source": [
    "# Save each array as a CSV file using pandas\n",
    "pd.DataFrame(process_times).to_csv(os.path.join(folder_path, 'process_times.csv'), index=False, header=False)\n",
    "pd.DataFrame(setup_times).to_csv(os.path.join(folder_path, 'setup_times.csv'), index=False, header=False)\n",
    "pd.DataFrame(ready_times).to_csv(os.path.join(folder_path, 'ready_times.csv'), index=False, header=False)\n",
    "pd.DataFrame(due_dates).to_csv(os.path.join(folder_path, 'due_dates.csv'), index=False, header=False)"
   ]
  },
  {
   "cell_type": "code",
   "execution_count": 5,
   "metadata": {},
   "outputs": [
    {
     "data": {
      "text/plain": [
       "'/Users/muratisiklan/Desktop/scheduling/Research'"
      ]
     },
     "execution_count": 5,
     "metadata": {},
     "output_type": "execute_result"
    }
   ],
   "source": [
    "%pwd"
   ]
  },
  {
   "cell_type": "code",
   "execution_count": 6,
   "metadata": {},
   "outputs": [],
   "source": [
    "os.chdir(\"../\")"
   ]
  },
  {
   "cell_type": "code",
   "execution_count": 7,
   "metadata": {},
   "outputs": [],
   "source": [
    "from src.Problems.pms.Algorithms.tabu_search import TabuSearch"
   ]
  },
  {
   "cell_type": "code",
   "execution_count": 8,
   "metadata": {},
   "outputs": [],
   "source": [
    "search = TabuSearch(process_times=process_times,\n",
    "                    ready_times=ready_times,\n",
    "                    setup_times=setup_times,\n",
    "                    due_dates=due_dates\n",
    "                    )"
   ]
  },
  {
   "cell_type": "code",
   "execution_count": 9,
   "metadata": {},
   "outputs": [
    {
     "data": {
      "text/plain": [
       "<src.Problems.pms.Algorithms.tabu_search.TabuSearch at 0x12683c5e0>"
      ]
     },
     "execution_count": 9,
     "metadata": {},
     "output_type": "execute_result"
    }
   ],
   "source": [
    "search"
   ]
  },
  {
   "cell_type": "code",
   "execution_count": 10,
   "metadata": {},
   "outputs": [],
   "source": [
    "search.construct_initial_solution()"
   ]
  },
  {
   "cell_type": "code",
   "execution_count": 11,
   "metadata": {},
   "outputs": [],
   "source": [
    "seq, obj, objectives, compt, stime = search.solve()"
   ]
  },
  {
   "cell_type": "code",
   "execution_count": 12,
   "metadata": {},
   "outputs": [
    {
     "data": {
      "text/plain": [
       "[[6, 9, 11, 23, 21, 13, 1, 15, 22, 28],\n",
       " [0, 27, 12, 4, 5, 29, 20, 25, 8],\n",
       " [18, 24, 7, 10, 14, 3, 19, 2, 26, 16, 17]]"
      ]
     },
     "execution_count": 12,
     "metadata": {},
     "output_type": "execute_result"
    }
   ],
   "source": [
    "seq"
   ]
  },
  {
   "cell_type": "code",
   "execution_count": 13,
   "metadata": {},
   "outputs": [
    {
     "data": {
      "text/plain": [
       "10334.533480764116"
      ]
     },
     "execution_count": 13,
     "metadata": {},
     "output_type": "execute_result"
    }
   ],
   "source": [
    "obj"
   ]
  },
  {
   "cell_type": "code",
   "execution_count": 14,
   "metadata": {},
   "outputs": [
    {
     "data": {
      "text/plain": [
       "array([ 79.41677531, 594.15329126, 629.25532065, 407.4512174 ,\n",
       "       246.68091396, 294.56254993,  94.85721947, 262.33763945,\n",
       "       711.71912088, 184.83366916, 317.71064073, 287.6309158 ,\n",
       "       184.68950896, 517.30306606, 371.17372431, 632.806012  ,\n",
       "       833.95698395, 927.10998284, 140.20144547, 485.2187067 ,\n",
       "       537.60924196, 419.04609402, 731.80091015, 356.89984195,\n",
       "       168.51213831, 612.0520061 , 670.72770108, 117.35226568,\n",
       "       840.53047797, 390.83043928])"
      ]
     },
     "execution_count": 14,
     "metadata": {},
     "output_type": "execute_result"
    }
   ],
   "source": [
    "compt"
   ]
  },
  {
   "cell_type": "code",
   "execution_count": 15,
   "metadata": {},
   "outputs": [
    {
     "data": {
      "text/plain": [
       "array([ 59.48580724, 583.14184231, 584.5093633 , 391.90656505,\n",
       "       234.29638564, 260.17611588,  63.05464375, 232.34852917,\n",
       "       664.40542527, 126.16863679, 305.7125765 , 195.94253142,\n",
       "       127.53664207, 469.04292973, 354.32775018, 621.20357347,\n",
       "       752.5646336 , 855.70719471,  89.27803381, 467.33199206,\n",
       "       463.94177485, 378.68089211, 676.23375862, 337.26405186,\n",
       "       150.69044572, 565.27829339, 657.70167246,  90.68018262,\n",
       "       778.9245411 , 363.26146516])"
      ]
     },
     "execution_count": 15,
     "metadata": {},
     "output_type": "execute_result"
    }
   ],
   "source": [
    "stime"
   ]
  },
  {
   "cell_type": "code",
   "execution_count": null,
   "metadata": {},
   "outputs": [],
   "source": []
  },
  {
   "cell_type": "code",
   "execution_count": null,
   "metadata": {},
   "outputs": [],
   "source": []
  }
 ],
 "metadata": {
  "kernelspec": {
   "display_name": ".venv",
   "language": "python",
   "name": "python3"
  },
  "language_info": {
   "codemirror_mode": {
    "name": "ipython",
    "version": 3
   },
   "file_extension": ".py",
   "mimetype": "text/x-python",
   "name": "python",
   "nbconvert_exporter": "python",
   "pygments_lexer": "ipython3",
   "version": "3.10.2"
  }
 },
 "nbformat": 4,
 "nbformat_minor": 2
}
