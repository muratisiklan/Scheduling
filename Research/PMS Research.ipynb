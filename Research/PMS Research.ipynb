{
 "cells": [
  {
   "cell_type": "code",
   "execution_count": 1,
   "metadata": {},
   "outputs": [],
   "source": [
    "import random\n",
    "import numpy as np\n",
    "import pandas as pd"
   ]
  },
  {
   "cell_type": "code",
   "execution_count": 2,
   "metadata": {},
   "outputs": [],
   "source": [
    "import os\n",
    "from datetime import datetime,timedelta"
   ]
  },
  {
   "cell_type": "code",
   "execution_count": 3,
   "metadata": {},
   "outputs": [],
   "source": [
    "process_times = np.random.uniform(10, 100, size=(30, 3))\n",
    "setup_times = np.random.uniform(10, 100, size=(30, 30))\n",
    "ready_times = np.random.uniform(10, 100, size=(30, 1))\n",
    "due_dates = np.random.uniform(80,100,size=(30,1))\n",
    "\n",
    "folder_path = \"/Users/muratisiklan/Desktop/scheduling/Test-Data\"\n"
   ]
  },
  {
   "cell_type": "code",
   "execution_count": 4,
   "metadata": {},
   "outputs": [],
   "source": [
    "# Save each array as a CSV file using pandas\n",
    "pd.DataFrame(process_times).to_csv(os.path.join(folder_path, 'process_times.csv'), index=False, header=False)\n",
    "pd.DataFrame(setup_times).to_csv(os.path.join(folder_path, 'setup_times.csv'), index=False, header=False)\n",
    "pd.DataFrame(ready_times).to_csv(os.path.join(folder_path, 'ready_times.csv'), index=False, header=False)\n",
    "pd.DataFrame(due_dates).to_csv(os.path.join(folder_path, 'due_dates.csv'), index=False, header=False)"
   ]
  },
  {
   "cell_type": "code",
   "execution_count": 5,
   "metadata": {},
   "outputs": [
    {
     "data": {
      "text/plain": [
       "'/Users/muratisiklan/Desktop/scheduling/Research'"
      ]
     },
     "execution_count": 5,
     "metadata": {},
     "output_type": "execute_result"
    }
   ],
   "source": [
    "%pwd"
   ]
  },
  {
   "cell_type": "code",
   "execution_count": 6,
   "metadata": {},
   "outputs": [],
   "source": [
    "os.chdir(\"../\")"
   ]
  },
  {
   "cell_type": "code",
   "execution_count": 7,
   "metadata": {},
   "outputs": [],
   "source": [
    "from src.Problems.pms.Algorithms.tabu_search.ts import TabuSearch"
   ]
  },
  {
   "cell_type": "code",
   "execution_count": 8,
   "metadata": {},
   "outputs": [],
   "source": [
    "search = TabuSearch(process_times=process_times,\n",
    "                    ready_times=ready_times,\n",
    "                    setup_times=setup_times,\n",
    "                    due_dates=due_dates\n",
    "                    )"
   ]
  },
  {
   "cell_type": "code",
   "execution_count": 9,
   "metadata": {},
   "outputs": [
    {
     "data": {
      "text/plain": [
       "<src.Problems.pms.Algorithms.tabu_search.ts.TabuSearch at 0x1177e0520>"
      ]
     },
     "execution_count": 9,
     "metadata": {},
     "output_type": "execute_result"
    }
   ],
   "source": [
    "search"
   ]
  },
  {
   "cell_type": "code",
   "execution_count": 10,
   "metadata": {},
   "outputs": [],
   "source": [
    "search.construct_initial_solution()"
   ]
  },
  {
   "cell_type": "code",
   "execution_count": 11,
   "metadata": {},
   "outputs": [],
   "source": [
    "seq, obj, objectives, compt, stime = search.run()"
   ]
  },
  {
   "cell_type": "code",
   "execution_count": 12,
   "metadata": {},
   "outputs": [
    {
     "data": {
      "text/plain": [
       "[[2, 4, 27, 13, 18, 17, 28, 19, 3, 1, 12],\n",
       " [7, 24, 11, 14, 16, 5, 21, 9, 26, 20],\n",
       " [10, 29, 6, 25, 15, 8, 22, 0, 23]]"
      ]
     },
     "execution_count": 12,
     "metadata": {},
     "output_type": "execute_result"
    }
   ],
   "source": [
    "seq"
   ]
  },
  {
   "cell_type": "code",
   "execution_count": 13,
   "metadata": {},
   "outputs": [
    {
     "data": {
      "text/plain": [
       "8853.357715556494"
      ]
     },
     "execution_count": 13,
     "metadata": {},
     "output_type": "execute_result"
    }
   ],
   "source": [
    "obj"
   ]
  },
  {
   "cell_type": "code",
   "execution_count": 14,
   "metadata": {},
   "outputs": [
    {
     "data": {
      "text/plain": [
       "array([624.36147185, 660.46020234,  88.80662346, 623.14520893,\n",
       "       154.56898058, 388.62787254, 164.905634  ,  94.52130227,\n",
       "       464.15265478, 499.93994062,  76.86160768, 236.67396506,\n",
       "       753.92622672, 258.70606895, 274.92134979, 368.50615654,\n",
       "       304.69701352, 401.6084847 , 343.83924724, 548.4065225 ,\n",
       "       677.43779867, 433.4435566 , 546.48927564, 719.73258307,\n",
       "       174.36247742, 278.09351034, 590.91985799, 191.31489497,\n",
       "       472.29485714, 135.35820939])"
      ]
     },
     "execution_count": 14,
     "metadata": {},
     "output_type": "execute_result"
    }
   ],
   "source": [
    "compt"
   ]
  },
  {
   "cell_type": "code",
   "execution_count": 15,
   "metadata": {},
   "outputs": [
    {
     "data": {
      "text/plain": [
       "array([559.4498299 , 633.63995535,  56.70726153, 561.582472  ,\n",
       "       111.55722149, 325.70941781, 148.15114644,  66.928317  ,\n",
       "       388.71114274, 462.56957766,  62.48237222, 208.01523377,\n",
       "       715.24144364, 212.50093898, 248.05322887, 301.88461541,\n",
       "       292.22526547, 354.05248098, 276.47914704, 485.72436661,\n",
       "       610.91434567, 414.96542242, 487.98714813, 661.47765244,\n",
       "       117.48131937, 230.62660035, 554.40809745, 165.49466978,\n",
       "       415.47652717, 112.52597993])"
      ]
     },
     "execution_count": 15,
     "metadata": {},
     "output_type": "execute_result"
    }
   ],
   "source": [
    "stime"
   ]
  },
  {
   "cell_type": "code",
   "execution_count": null,
   "metadata": {},
   "outputs": [],
   "source": []
  }
 ],
 "metadata": {
  "kernelspec": {
   "display_name": ".venv",
   "language": "python",
   "name": "python3"
  },
  "language_info": {
   "codemirror_mode": {
    "name": "ipython",
    "version": 3
   },
   "file_extension": ".py",
   "mimetype": "text/x-python",
   "name": "python",
   "nbconvert_exporter": "python",
   "pygments_lexer": "ipython3",
   "version": "3.10.2"
  }
 },
 "nbformat": 4,
 "nbformat_minor": 2
}
