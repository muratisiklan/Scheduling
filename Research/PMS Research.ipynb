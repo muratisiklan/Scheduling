{
 "cells": [
  {
   "cell_type": "code",
   "execution_count": 1,
   "metadata": {},
   "outputs": [],
   "source": [
    "import random\n",
    "import numpy as np\n",
    "import pandas as pd"
   ]
  },
  {
   "cell_type": "code",
   "execution_count": 2,
   "metadata": {},
   "outputs": [],
   "source": [
    "import os\n",
    "from datetime import datetime,timedelta"
   ]
  },
  {
   "cell_type": "code",
   "execution_count": 3,
   "metadata": {},
   "outputs": [],
   "source": [
    "process_times = np.random.uniform(10, 100, size=(30, 3))\n",
    "setup_times = np.random.uniform(10, 100, size=(30, 30))\n",
    "ready_times = np.random.uniform(10, 100, size=(30, 1))\n",
    "due_dates = np.random.uniform(80,100,size=(30,1))\n",
    "\n",
    "folder_path = \"/Users/muratisiklan/Desktop/scheduling/Test-Data\"\n"
   ]
  },
  {
   "cell_type": "code",
   "execution_count": 4,
   "metadata": {},
   "outputs": [],
   "source": [
    "# Save each array as a CSV file using pandas\n",
    "pd.DataFrame(process_times).to_csv(os.path.join(folder_path, 'process_times.csv'), index=False, header=False)\n",
    "pd.DataFrame(setup_times).to_csv(os.path.join(folder_path, 'setup_times.csv'), index=False, header=False)\n",
    "pd.DataFrame(ready_times).to_csv(os.path.join(folder_path, 'ready_times.csv'), index=False, header=False)\n",
    "pd.DataFrame(due_dates).to_csv(os.path.join(folder_path, 'due_dates.csv'), index=False, header=False)"
   ]
  },
  {
   "cell_type": "code",
   "execution_count": 5,
   "metadata": {},
   "outputs": [
    {
     "data": {
      "text/plain": [
       "'/Users/muratisiklan/Desktop/scheduling/Research'"
      ]
     },
     "execution_count": 5,
     "metadata": {},
     "output_type": "execute_result"
    }
   ],
   "source": [
    "%pwd"
   ]
  },
  {
   "cell_type": "code",
   "execution_count": 6,
   "metadata": {},
   "outputs": [],
   "source": [
    "os.chdir(\"../\")"
   ]
  },
  {
   "cell_type": "code",
   "execution_count": 7,
   "metadata": {},
   "outputs": [],
   "source": [
    "from src.Problems.pms.Algorithms.tabu_search import TabuSearch"
   ]
  },
  {
   "cell_type": "code",
   "execution_count": 8,
   "metadata": {},
   "outputs": [],
   "source": [
    "search = TabuSearch(process_times=process_times,\n",
    "                    ready_times=ready_times,\n",
    "                    setup_times=setup_times,\n",
    "                    due_dates=due_dates\n",
    "                    )"
   ]
  },
  {
   "cell_type": "code",
   "execution_count": 9,
   "metadata": {},
   "outputs": [
    {
     "name": "stdout",
     "output_type": "stream",
     "text": [
      "it works\n"
     ]
    }
   ],
   "source": [
    "search.random()"
   ]
  },
  {
   "cell_type": "code",
   "execution_count": null,
   "metadata": {},
   "outputs": [],
   "source": []
  },
  {
   "cell_type": "code",
   "execution_count": 11,
   "metadata": {},
   "outputs": [],
   "source": [
    "seq, obj, objectives, compt, stime = search.solve()"
   ]
  },
  {
   "cell_type": "code",
   "execution_count": 12,
   "metadata": {},
   "outputs": [
    {
     "data": {
      "text/plain": [
       "[[9, 17, 18, 22, 25, 26, 27, 3, 6, 21],\n",
       " [2, 1, 13, 24, 19, 10, 20, 4, 29],\n",
       " [8, 14, 15, 16, 23, 28, 0, 7, 11, 5, 12]]"
      ]
     },
     "execution_count": 12,
     "metadata": {},
     "output_type": "execute_result"
    }
   ],
   "source": [
    "seq"
   ]
  },
  {
   "cell_type": "code",
   "execution_count": 13,
   "metadata": {},
   "outputs": [
    {
     "data": {
      "text/plain": [
       "8994.35565532869"
      ]
     },
     "execution_count": 13,
     "metadata": {},
     "output_type": "execute_result"
    }
   ],
   "source": [
    "obj"
   ]
  },
  {
   "cell_type": "code",
   "execution_count": 14,
   "metadata": {},
   "outputs": [
    {
     "data": {
      "text/plain": [
       "array([509.7867912 , 132.82318568, 105.77674507, 546.36238736,\n",
       "       524.98156804, 735.39113437, 634.02573557, 543.17248385,\n",
       "       133.98327751,  81.88012242, 336.90869621, 615.21715498,\n",
       "       836.45672463, 187.71525041, 261.19224515, 292.34129854,\n",
       "       328.86209245, 114.74081956, 150.24824387, 274.05519378,\n",
       "       413.15906246, 749.51845754, 228.649064  , 375.41641195,\n",
       "       239.30151829, 299.3473986 , 371.24036824, 499.43619722,\n",
       "       465.2351812 , 675.05779389])"
      ]
     },
     "execution_count": 14,
     "metadata": {},
     "output_type": "execute_result"
    }
   ],
   "source": [
    "compt"
   ]
  },
  {
   "cell_type": "code",
   "execution_count": 15,
   "metadata": {},
   "outputs": [
    {
     "data": {
      "text/plain": [
       "array([481.61201016, 120.28598718,  72.21081136, 523.36279717,\n",
       "       445.84800407, 662.72415211, 608.31410982, 525.88888046,\n",
       "        95.00741739,  66.07911575, 291.88244289, 589.84651251,\n",
       "       821.29641662, 176.37902002, 174.07558461, 281.47225622,\n",
       "       307.91176408,  99.72086057, 129.04386483, 252.5867208 ,\n",
       "       363.17833211, 663.2154364 , 175.53424251, 350.20114952,\n",
       "       211.14935272, 262.68078229, 351.66354463, 402.61767109,\n",
       "       425.90424139, 585.59243886])"
      ]
     },
     "execution_count": 15,
     "metadata": {},
     "output_type": "execute_result"
    }
   ],
   "source": [
    "stime"
   ]
  },
  {
   "cell_type": "code",
   "execution_count": null,
   "metadata": {},
   "outputs": [],
   "source": []
  },
  {
   "cell_type": "code",
   "execution_count": null,
   "metadata": {},
   "outputs": [],
   "source": []
  }
 ],
 "metadata": {
  "kernelspec": {
   "display_name": ".venv",
   "language": "python",
   "name": "python3"
  },
  "language_info": {
   "codemirror_mode": {
    "name": "ipython",
    "version": 3
   },
   "file_extension": ".py",
   "mimetype": "text/x-python",
   "name": "python",
   "nbconvert_exporter": "python",
   "pygments_lexer": "ipython3",
   "version": "3.10.2"
  }
 },
 "nbformat": 4,
 "nbformat_minor": 2
}
