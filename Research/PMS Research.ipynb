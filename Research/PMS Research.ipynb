{
 "cells": [
  {
   "cell_type": "code",
   "execution_count": 1,
   "metadata": {},
   "outputs": [],
   "source": [
    "import random\n",
    "import numpy as np\n",
    "import pandas as pd"
   ]
  },
  {
   "cell_type": "code",
   "execution_count": 2,
   "metadata": {},
   "outputs": [],
   "source": [
    "import os\n",
    "from datetime import datetime,timedelta"
   ]
  },
  {
   "cell_type": "code",
   "execution_count": 3,
   "metadata": {},
   "outputs": [],
   "source": [
    "process_times = np.random.uniform(10, 100, size=(30, 3))\n",
    "setup_times = np.random.uniform(10, 100, size=(30, 30))\n",
    "ready_times = np.random.uniform(10, 100, size=(30, 1))\n",
    "due_dates = np.random.uniform(80,100,size=(30,1))\n",
    "\n",
    "folder_path = \"/Users/muratisiklan/Desktop/scheduling/Test-Data\"\n"
   ]
  },
  {
   "cell_type": "code",
   "execution_count": 4,
   "metadata": {},
   "outputs": [
    {
     "data": {
      "text/plain": [
       "30"
      ]
     },
     "execution_count": 4,
     "metadata": {},
     "output_type": "execute_result"
    }
   ],
   "source": [
    "len(process_times)"
   ]
  },
  {
   "cell_type": "code",
   "execution_count": 20,
   "metadata": {},
   "outputs": [],
   "source": [
    "# Save each array as a CSV file using pandas\n",
    "pd.DataFrame(process_times).to_csv(os.path.join(folder_path, 'process_times.csv'), index=False, header=False)\n",
    "pd.DataFrame(setup_times).to_csv(os.path.join(folder_path, 'setup_times.csv'), index=False, header=False)\n",
    "pd.DataFrame(ready_times).to_csv(os.path.join(folder_path, 'ready_times.csv'), index=False, header=False)\n",
    "pd.DataFrame(due_dates).to_csv(os.path.join(folder_path, 'due_dates.csv'), index=False, header=False)"
   ]
  },
  {
   "cell_type": "code",
   "execution_count": 5,
   "metadata": {},
   "outputs": [
    {
     "data": {
      "text/plain": [
       "'/Users/muratisiklan/Desktop/scheduling/Research'"
      ]
     },
     "execution_count": 5,
     "metadata": {},
     "output_type": "execute_result"
    }
   ],
   "source": [
    "%pwd"
   ]
  },
  {
   "cell_type": "code",
   "execution_count": 6,
   "metadata": {},
   "outputs": [],
   "source": [
    "os.chdir(\"../\")"
   ]
  },
  {
   "cell_type": "code",
   "execution_count": 7,
   "metadata": {},
   "outputs": [],
   "source": [
    "from src.Problems.pms.Algorithms.simulated_annealing import SimulatedAnnealing"
   ]
  },
  {
   "cell_type": "code",
   "execution_count": 8,
   "metadata": {},
   "outputs": [],
   "source": [
    "search = SimulatedAnnealing(process_times=process_times,\n",
    "                    ready_times=ready_times,\n",
    "                    setup_times=setup_times,\n",
    "                    due_dates=due_dates\n",
    "                    )"
   ]
  },
  {
   "cell_type": "code",
   "execution_count": 9,
   "metadata": {},
   "outputs": [
    {
     "name": "stdout",
     "output_type": "stream",
     "text": [
      "it works\n"
     ]
    }
   ],
   "source": [
    "search.random()"
   ]
  },
  {
   "cell_type": "code",
   "execution_count": null,
   "metadata": {},
   "outputs": [],
   "source": []
  },
  {
   "cell_type": "code",
   "execution_count": 10,
   "metadata": {},
   "outputs": [],
   "source": [
    "seq, obj, objectives, compt, stime = search.solve()"
   ]
  },
  {
   "cell_type": "code",
   "execution_count": 11,
   "metadata": {},
   "outputs": [
    {
     "data": {
      "text/plain": [
       "[[0, 6, 26, 5, 3, 2, 27, 9, 19, 25, 18],\n",
       " [28, 23, 29, 12, 14, 11, 4, 24, 20],\n",
       " [21, 1, 7, 8, 15, 13, 22, 10, 16, 17]]"
      ]
     },
     "execution_count": 11,
     "metadata": {},
     "output_type": "execute_result"
    }
   ],
   "source": [
    "seq"
   ]
  },
  {
   "cell_type": "code",
   "execution_count": 12,
   "metadata": {},
   "outputs": [
    {
     "data": {
      "text/plain": [
       "7620.33056553313"
      ]
     },
     "execution_count": 12,
     "metadata": {},
     "output_type": "execute_result"
    }
   ],
   "source": [
    "obj"
   ]
  },
  {
   "cell_type": "code",
   "execution_count": 13,
   "metadata": {},
   "outputs": [
    {
     "data": {
      "text/plain": [
       "array([ 91.50345779, 132.40812204, 329.78988502, 283.59728866,\n",
       "       452.63469439, 221.64145929, 155.4296913 , 190.9834241 ,\n",
       "       238.21081031, 436.29410786, 473.54430828, 372.5735837 ,\n",
       "       258.84383307, 370.06922378, 319.9972194 , 300.11254634,\n",
       "       515.45730046, 649.54108227, 699.94537373, 511.9928553 ,\n",
       "       599.77468135,  97.16804028, 410.55546893, 178.17800034,\n",
       "       517.16186656, 601.49919011, 181.21733376, 403.51099616,\n",
       "       106.76809699, 216.85763478])"
      ]
     },
     "execution_count": 13,
     "metadata": {},
     "output_type": "execute_result"
    }
   ],
   "source": [
    "compt"
   ]
  },
  {
   "cell_type": "code",
   "execution_count": 14,
   "metadata": {},
   "outputs": [
    {
     "data": {
      "text/plain": [
       "array([ 63.67386734, 110.20553066, 308.64857246, 239.41133254,\n",
       "       401.37663444, 200.15132653, 116.80854   , 164.18383809,\n",
       "       217.50212265, 423.41428624, 458.82713576, 337.61938481,\n",
       "       228.24224902, 316.22534818, 268.95668388, 248.92182054,\n",
       "       485.99895078, 604.58962105, 638.37645724, 501.10112149,\n",
       "       559.99482187,  75.86022038, 389.54690664, 143.42795759,\n",
       "       480.44668141, 565.82712477, 170.71835325, 367.27562624,\n",
       "        91.691834  , 194.60884583])"
      ]
     },
     "execution_count": 14,
     "metadata": {},
     "output_type": "execute_result"
    }
   ],
   "source": [
    "stime"
   ]
  },
  {
   "cell_type": "code",
   "execution_count": 15,
   "metadata": {},
   "outputs": [
    {
     "data": {
      "text/plain": [
       "list"
      ]
     },
     "execution_count": 15,
     "metadata": {},
     "output_type": "execute_result"
    }
   ],
   "source": [
    "type(objectives)"
   ]
  },
  {
   "cell_type": "code",
   "execution_count": 16,
   "metadata": {},
   "outputs": [],
   "source": [
    "import matplotlib.pyplot as plt"
   ]
  },
  {
   "cell_type": "code",
   "execution_count": 17,
   "metadata": {},
   "outputs": [
    {
     "data": {
      "text/plain": [
       "[<matplotlib.lines.Line2D at 0x126f6f400>]"
      ]
     },
     "execution_count": 17,
     "metadata": {},
     "output_type": "execute_result"
    },
    {
     "data": {
      "image/png": "[encoded data removed]",
      "text/plain": [
       "<Figure size 640x480 with 1 Axes>"
      ]
     },
     "metadata": {},
     "output_type": "display_data"
    }
   ],
   "source": [
    "plt.plot(objectives)"
   ]
  },
  {
   "cell_type": "code",
   "execution_count": 18,
   "metadata": {},
   "outputs": [],
   "source": [
    "def check_elements_greater_than_previous(lst):\n",
    "    if len(lst) < 2:\n",
    "        # If the list has less than 2 elements, the condition is trivially true.\n",
    "        return True\n",
    "\n",
    "    # Check if any element at index i is greater than the element at index i-1\n",
    "    for i in range(1, len(lst)):\n",
    "        if lst[i] > lst[i - 1]:\n",
    "            return True\n",
    "\n",
    "    # If no such pair is found, return False\n",
    "    return False"
   ]
  },
  {
   "cell_type": "code",
   "execution_count": 19,
   "metadata": {},
   "outputs": [
    {
     "name": "stdout",
     "output_type": "stream",
     "text": [
      "True\n",
      "30\n"
     ]
    }
   ],
   "source": [
    "for i in range(1,len(objectives)):\n",
    "    if i>0:\n",
    "        if objectives[i] > objectives[i-1]:\n",
    "            print(True)\n",
    "            print(i)"
   ]
  },
  {
   "cell_type": "code",
   "execution_count": 6,
   "metadata": {},
   "outputs": [
    {
     "data": {
      "text/plain": [
       "'/Users/muratisiklan/Desktop/scheduling'"
      ]
     },
     "execution_count": 6,
     "metadata": {},
     "output_type": "execute_result"
    }
   ],
   "source": [
    "%pwd\n"
   ]
  },
  {
   "cell_type": "code",
   "execution_count": 5,
   "metadata": {},
   "outputs": [],
   "source": [
    "os.chdir(\"../\")"
   ]
  },
  {
   "cell_type": "markdown",
   "metadata": {},
   "source": [
    "## Genetic Algorithm"
   ]
  },
  {
   "cell_type": "code",
   "execution_count": 7,
   "metadata": {},
   "outputs": [],
   "source": [
    "from src.Problems.pms.Algorithms.utils import create_population"
   ]
  },
  {
   "cell_type": "code",
   "execution_count": 9,
   "metadata": {},
   "outputs": [],
   "source": [
    "pop = create_population(process_times,10)"
   ]
  },
  {
   "cell_type": "code",
   "execution_count": 10,
   "metadata": {},
   "outputs": [
    {
     "data": {
      "text/plain": [
       "10"
      ]
     },
     "execution_count": 10,
     "metadata": {},
     "output_type": "execute_result"
    }
   ],
   "source": [
    "pop.__len__()"
   ]
  },
  {
   "cell_type": "code",
   "execution_count": 25,
   "metadata": {},
   "outputs": [
    {
     "data": {
      "text/plain": [
       "[[0, 2, 4, 9, 14, 15, 28, 29],\n",
       " [6, 8, 10, 11, 16, 17, 19, 20, 21, 22, 23, 24, 25, 26],\n",
       " [1, 3, 5, 7, 12, 13, 18, 27]]"
      ]
     },
     "execution_count": 25,
     "metadata": {},
     "output_type": "execute_result"
    }
   ],
   "source": [
    "pop[0]"
   ]
  },
  {
   "cell_type": "code",
   "execution_count": 26,
   "metadata": {},
   "outputs": [
    {
     "data": {
      "text/plain": [
       "[[2, 6, 9, 11, 13, 14, 15, 18, 20, 21, 22, 23, 25, 28],\n",
       " [3, 4, 7, 8, 10, 19, 29],\n",
       " [0, 1, 5, 12, 16, 17, 24, 26, 27]]"
      ]
     },
     "execution_count": 26,
     "metadata": {},
     "output_type": "execute_result"
    }
   ],
   "source": [
    "pop[1]"
   ]
  },
  {
   "cell_type": "code",
   "execution_count": null,
   "metadata": {},
   "outputs": [],
   "source": []
  }
 ],
 "metadata": {
  "kernelspec": {
   "display_name": ".venv",
   "language": "python",
   "name": "python3"
  },
  "language_info": {
   "codemirror_mode": {
    "name": "ipython",
    "version": 3
   },
   "file_extension": ".py",
   "mimetype": "text/x-python",
   "name": "python",
   "nbconvert_exporter": "python",
   "pygments_lexer": "ipython3",
   "version": "3.10.2"
  }
 },
 "nbformat": 4,
 "nbformat_minor": 2
}
